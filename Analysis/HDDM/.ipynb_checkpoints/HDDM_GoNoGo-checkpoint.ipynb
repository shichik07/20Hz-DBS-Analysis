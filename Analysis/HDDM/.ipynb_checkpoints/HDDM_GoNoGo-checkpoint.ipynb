{
 "cells": [
  {
   "cell_type": "markdown",
   "id": "de1ff709",
   "metadata": {},
   "source": [
    "\n",
    "# HDDM analysis of the 20Hz Data - Go-NoGo-Change task\n",
    "Author: Julius Kricheldorff Affiliation: Carl von Ossietzky University Date: 09.05.2022\n",
    "\n",
    "Import Neccessary packages:"
   ]
  },
  {
   "cell_type": "code",
   "execution_count": 1,
   "id": "bed678bf",
   "metadata": {},
   "outputs": [
    {
     "name": "stdout",
     "output_type": "stream",
     "text": [
      "0.8.0\n"
     ]
    },
    {
     "name": "stderr",
     "output_type": "stream",
     "text": [
      "C:\\Users\\doex9445\\AppData\\Local\\miniconda3\\envs\\DDM_space\\lib\\site-packages\\IPython\\parallel.py:13: ShimWarning: The `IPython.parallel` package has been deprecated since IPython 4.0. You should import from ipyparallel instead.\n",
      "  \"You should import from ipyparallel instead.\", ShimWarning)\n"
     ]
    },
    {
     "data": {
      "text/plain": [
       "'C:\\\\Users\\\\doex9445\\\\Dateien\\\\Julius\\\\20Hz\\\\Data\\\\Extracted'"
      ]
     },
     "execution_count": 1,
     "metadata": {},
     "output_type": "execute_result"
    }
   ],
   "source": [
    "import pandas as pd\n",
    "import os\n",
    "import matplotlib.pyplot as plt\n",
    "%matplotlib inline\n",
    "import hddm\n",
    "print(hddm.__version__)\n",
    "os.chdir(r\"C:\\Users\\doex9445\\Dateien\\Julius\\20Hz\\Data\\Extracted\")\n",
    "os.getcwd()"
   ]
  },
  {
   "cell_type": "code",
   "execution_count": null,
   "id": "ca1dd4ca",
   "metadata": {},
   "outputs": [],
   "source": []
  }
 ],
 "metadata": {
  "kernelspec": {
   "display_name": "Python 3 (Spyder)",
   "language": "python3",
   "name": "python3"
  },
  "language_info": {
   "codemirror_mode": {
    "name": "ipython",
    "version": 3
   },
   "file_extension": ".py",
   "mimetype": "text/x-python",
   "name": "python",
   "nbconvert_exporter": "python",
   "pygments_lexer": "ipython3",
   "version": "3.7.16"
  }
 },
 "nbformat": 4,
 "nbformat_minor": 5
}
