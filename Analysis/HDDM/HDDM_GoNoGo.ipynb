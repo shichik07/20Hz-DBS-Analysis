{
 "cells": [
  {
   "cell_type": "markdown",
   "id": "74da3d08",
   "metadata": {},
   "source": [
    "\n",
    "# HDDM analysis of the 20Hz Data - Go-NoGo-Change task\n",
    "Author: Julius Kricheldorff Affiliation: Carl von Ossietzky University Date: 09.05.2022\n",
    "\n",
    "Import Neccessary packages:"
   ]
  },
  {
   "cell_type": "code",
   "execution_count": 23,
   "id": "bc2e6a12",
   "metadata": {},
   "outputs": [
    {
     "name": "stdout",
     "output_type": "stream",
     "text": [
      "0.8.0\n"
     ]
    },
    {
     "data": {
      "text/plain": [
       "'C:\\\\Users\\\\doex9445\\\\Dateien\\\\Julius\\\\20Hz\\\\Data\\\\Extracted'"
      ]
     },
     "execution_count": 23,
     "metadata": {},
     "output_type": "execute_result"
    }
   ],
   "source": [
    "import pandas as pd\n",
    "import os\n",
    "import matplotlib.pyplot as plt\n",
    "%matplotlib inline\n",
    "import hddm\n",
    "import patsy\n",
    "print(hddm.__version__)\n",
    "os.chdir(r\"C:\\Users\\doex9445\\Dateien\\Julius\\20Hz\\Data\\Extracted\")\n",
    "os.getcwd()"
   ]
  },
  {
   "cell_type": "markdown",
   "id": "bfabfd3a",
   "metadata": {},
   "source": [
    "Next we want to load the data. Because we want to analyze a GoNoGo task, our target (response) is not accuracy, but Go and NoGo trials. Thus we have to recode our dataset. Further we will include one variable with the stimulation conditions, one variable with the cued condition (cued Go or cued no Go) and see how these conditions affect response threshold. I think it might also be smart to distinguish cued NoGo Go and cued NoGo NoGo? i will have to think about the nested structure some more. First load the data:"
   ]
  },
  {
   "cell_type": "code",
   "execution_count": 15,
   "id": "47151edd",
   "metadata": {},
   "outputs": [
    {
     "data": {
      "text/html": [
       "<div>\n",
       "<style scoped>\n",
       "    .dataframe tbody tr th:only-of-type {\n",
       "        vertical-align: middle;\n",
       "    }\n",
       "\n",
       "    .dataframe tbody tr th {\n",
       "        vertical-align: top;\n",
       "    }\n",
       "\n",
       "    .dataframe thead th {\n",
       "        text-align: right;\n",
       "    }\n",
       "</style>\n",
       "<table border=\"1\" class=\"dataframe\">\n",
       "  <thead>\n",
       "    <tr style=\"text-align: right;\">\n",
       "      <th></th>\n",
       "      <th>Trial_Nr</th>\n",
       "      <th>Required_Response</th>\n",
       "      <th>nrbeding</th>\n",
       "      <th>response</th>\n",
       "      <th>rt</th>\n",
       "      <th>Stimulus_Switch</th>\n",
       "      <th>Response_Switch</th>\n",
       "      <th>Post_Error</th>\n",
       "      <th>eingfehler</th>\n",
       "      <th>subj_idx</th>\n",
       "      <th>run_nr</th>\n",
       "      <th>UPDRS</th>\n",
       "      <th>Stim</th>\n",
       "      <th>Stim_verb</th>\n",
       "      <th>GoNoGo</th>\n",
       "      <th>StopTrl</th>\n",
       "      <th>change_con</th>\n",
       "    </tr>\n",
       "  </thead>\n",
       "  <tbody>\n",
       "    <tr>\n",
       "      <th>1</th>\n",
       "      <td>2</td>\n",
       "      <td>right</td>\n",
       "      <td>19</td>\n",
       "      <td>1</td>\n",
       "      <td>0.984375</td>\n",
       "      <td>1</td>\n",
       "      <td>0</td>\n",
       "      <td>0</td>\n",
       "      <td>0</td>\n",
       "      <td>1</td>\n",
       "      <td>1</td>\n",
       "      <td>32</td>\n",
       "      <td>1</td>\n",
       "      <td>130Hz</td>\n",
       "      <td>NoGo - Go</td>\n",
       "      <td>0</td>\n",
       "      <td>1</td>\n",
       "    </tr>\n",
       "    <tr>\n",
       "      <th>2</th>\n",
       "      <td>3</td>\n",
       "      <td>right</td>\n",
       "      <td>18</td>\n",
       "      <td>1</td>\n",
       "      <td>0.484375</td>\n",
       "      <td>0</td>\n",
       "      <td>0</td>\n",
       "      <td>0</td>\n",
       "      <td>0</td>\n",
       "      <td>1</td>\n",
       "      <td>1</td>\n",
       "      <td>32</td>\n",
       "      <td>1</td>\n",
       "      <td>130Hz</td>\n",
       "      <td>NoGo - Go</td>\n",
       "      <td>0</td>\n",
       "      <td>1</td>\n",
       "    </tr>\n",
       "    <tr>\n",
       "      <th>3</th>\n",
       "      <td>4</td>\n",
       "      <td>right</td>\n",
       "      <td>19</td>\n",
       "      <td>1</td>\n",
       "      <td>0.656250</td>\n",
       "      <td>1</td>\n",
       "      <td>1</td>\n",
       "      <td>0</td>\n",
       "      <td>0</td>\n",
       "      <td>1</td>\n",
       "      <td>1</td>\n",
       "      <td>32</td>\n",
       "      <td>1</td>\n",
       "      <td>130Hz</td>\n",
       "      <td>Go</td>\n",
       "      <td>0</td>\n",
       "      <td>0</td>\n",
       "    </tr>\n",
       "    <tr>\n",
       "      <th>4</th>\n",
       "      <td>5</td>\n",
       "      <td>left</td>\n",
       "      <td>19</td>\n",
       "      <td>1</td>\n",
       "      <td>0.640625</td>\n",
       "      <td>1</td>\n",
       "      <td>0</td>\n",
       "      <td>0</td>\n",
       "      <td>0</td>\n",
       "      <td>1</td>\n",
       "      <td>1</td>\n",
       "      <td>32</td>\n",
       "      <td>1</td>\n",
       "      <td>130Hz</td>\n",
       "      <td>Go</td>\n",
       "      <td>0</td>\n",
       "      <td>0</td>\n",
       "    </tr>\n",
       "    <tr>\n",
       "      <th>5</th>\n",
       "      <td>6</td>\n",
       "      <td>right</td>\n",
       "      <td>17</td>\n",
       "      <td>1</td>\n",
       "      <td>0.640625</td>\n",
       "      <td>1</td>\n",
       "      <td>0</td>\n",
       "      <td>0</td>\n",
       "      <td>0</td>\n",
       "      <td>1</td>\n",
       "      <td>1</td>\n",
       "      <td>32</td>\n",
       "      <td>1</td>\n",
       "      <td>130Hz</td>\n",
       "      <td>NoGo - Go</td>\n",
       "      <td>0</td>\n",
       "      <td>1</td>\n",
       "    </tr>\n",
       "    <tr>\n",
       "      <th>6</th>\n",
       "      <td>7</td>\n",
       "      <td>right</td>\n",
       "      <td>18</td>\n",
       "      <td>1</td>\n",
       "      <td>0.906250</td>\n",
       "      <td>1</td>\n",
       "      <td>1</td>\n",
       "      <td>0</td>\n",
       "      <td>0</td>\n",
       "      <td>1</td>\n",
       "      <td>1</td>\n",
       "      <td>32</td>\n",
       "      <td>1</td>\n",
       "      <td>130Hz</td>\n",
       "      <td>Go</td>\n",
       "      <td>0</td>\n",
       "      <td>0</td>\n",
       "    </tr>\n",
       "    <tr>\n",
       "      <th>7</th>\n",
       "      <td>8</td>\n",
       "      <td>right</td>\n",
       "      <td>17</td>\n",
       "      <td>1</td>\n",
       "      <td>0.734375</td>\n",
       "      <td>0</td>\n",
       "      <td>0</td>\n",
       "      <td>0</td>\n",
       "      <td>0</td>\n",
       "      <td>1</td>\n",
       "      <td>1</td>\n",
       "      <td>32</td>\n",
       "      <td>1</td>\n",
       "      <td>130Hz</td>\n",
       "      <td>Go</td>\n",
       "      <td>0</td>\n",
       "      <td>0</td>\n",
       "    </tr>\n",
       "    <tr>\n",
       "      <th>9</th>\n",
       "      <td>10</td>\n",
       "      <td>right</td>\n",
       "      <td>16</td>\n",
       "      <td>1</td>\n",
       "      <td>0.546875</td>\n",
       "      <td>1</td>\n",
       "      <td>0</td>\n",
       "      <td>1</td>\n",
       "      <td>0</td>\n",
       "      <td>1</td>\n",
       "      <td>1</td>\n",
       "      <td>32</td>\n",
       "      <td>1</td>\n",
       "      <td>130Hz</td>\n",
       "      <td>NoGo - Go</td>\n",
       "      <td>0</td>\n",
       "      <td>1</td>\n",
       "    </tr>\n",
       "    <tr>\n",
       "      <th>11</th>\n",
       "      <td>12</td>\n",
       "      <td>left</td>\n",
       "      <td>18</td>\n",
       "      <td>1</td>\n",
       "      <td>0.515625</td>\n",
       "      <td>1</td>\n",
       "      <td>1</td>\n",
       "      <td>0</td>\n",
       "      <td>0</td>\n",
       "      <td>1</td>\n",
       "      <td>1</td>\n",
       "      <td>32</td>\n",
       "      <td>1</td>\n",
       "      <td>130Hz</td>\n",
       "      <td>Go</td>\n",
       "      <td>0</td>\n",
       "      <td>0</td>\n",
       "    </tr>\n",
       "    <tr>\n",
       "      <th>12</th>\n",
       "      <td>13</td>\n",
       "      <td>right</td>\n",
       "      <td>16</td>\n",
       "      <td>1</td>\n",
       "      <td>0.718750</td>\n",
       "      <td>1</td>\n",
       "      <td>0</td>\n",
       "      <td>0</td>\n",
       "      <td>0</td>\n",
       "      <td>1</td>\n",
       "      <td>1</td>\n",
       "      <td>32</td>\n",
       "      <td>1</td>\n",
       "      <td>130Hz</td>\n",
       "      <td>Go</td>\n",
       "      <td>0</td>\n",
       "      <td>0</td>\n",
       "    </tr>\n",
       "  </tbody>\n",
       "</table>\n",
       "</div>"
      ],
      "text/plain": [
       "    Trial_Nr Required_Response  nrbeding  ...     GoNoGo  StopTrl  change_con\n",
       "1          2             right        19  ...  NoGo - Go        0           1\n",
       "2          3             right        18  ...  NoGo - Go        0           1\n",
       "3          4             right        19  ...         Go        0           0\n",
       "4          5              left        19  ...         Go        0           0\n",
       "5          6             right        17  ...  NoGo - Go        0           1\n",
       "6          7             right        18  ...         Go        0           0\n",
       "7          8             right        17  ...         Go        0           0\n",
       "9         10             right        16  ...  NoGo - Go        0           1\n",
       "11        12              left        18  ...         Go        0           0\n",
       "12        13             right        16  ...         Go        0           0\n",
       "\n",
       "[10 rows x 17 columns]"
      ]
     },
     "execution_count": 15,
     "metadata": {},
     "output_type": "execute_result"
    }
   ],
   "source": [
    "data = hddm.load_csv('GoNoGo.csv')\n",
    "# because we perform at least two model analyses - the first thing we want to see is how the Go trials and NoGo Cued trials differ by stimulation condition. For this analysis we ignore the NoGotrials and only at the Go trials\n",
    "\n",
    "data_Go = data\n",
    "# create a new column from existing column\n",
    "data_Go['StopTrl'] = data_Go[\"GoNoGo\"].apply(lambda x: 1 if \"Stop\" in x else 0)\n",
    "data_Go['change_con'] = data_Go[\"GoNoGo\"].apply(lambda x: 1 if \"NoGo\" in x else 0)\n",
    "# filter Stop Trials\n",
    "data_Go = data_Go[(data_Go.StopTrl != 1)]\n",
    "# and rename a couple of columns\n",
    "data_Go = data_Go.rename(columns={\"RT\":\"rt\", \"Part_nr\":\"subj_idx\", \"Correct_Response\": \"response\"})\n",
    "data_Go.head(10)\n",
    "\n"
   ]
  },
  {
   "cell_type": "markdown",
   "id": "9bcb7583",
   "metadata": {},
   "source": [
    "Fit a first simple model:"
   ]
  },
  {
   "cell_type": "code",
   "execution_count": 16,
   "id": "a5f1ce8b",
   "metadata": {},
   "outputs": [
    {
     "name": "stdout",
     "output_type": "stream",
     "text": [
      "Adding these covariates:\n",
      "['a_Intercept', 'a_Stim_verb[130Hz]:change_con', 'a_Stim_verb[20Hz]:change_con', 'a_Stim_verb[OFF]:change_con']\n"
     ]
    },
    {
     "name": "stderr",
     "output_type": "stream",
     "text": [
      "C:\\Users\\doex9445\\AppData\\Local\\miniconda3\\envs\\DDM_space\\lib\\site-packages\\scipy\\optimize\\optimize.py:2215: RuntimeWarning: invalid value encountered in double_scalars\n",
      "  tmp2 = (x - v) * (fx - fw)\n"
     ]
    },
    {
     "name": "stdout",
     "output_type": "stream",
     "text": [
      " [-----------------100%-----------------] 2000 of 2000 complete in 638.6 sec"
     ]
    },
    {
     "data": {
      "text/plain": [
       "<pymc.MCMC.MCMC at 0x147250470c8>"
      ]
     },
     "execution_count": 16,
     "metadata": {},
     "output_type": "execute_result"
    }
   ],
   "source": [
    "md_srt_stim = hddm.HDDMRegressor(data_Go, \n",
    "                                 \"a ~ Stim_verb:change_con\", # threshold depends on Stimulation condition and whether Go trials were cued\n",
    "                                p_outlier = 0.05) # we say that 5% of our trials are outlier trials)\n",
    "# find a good starting value\n",
    "md_srt_stim.find_starting_values()\n",
    "#get samples and discard a couple as burn ins\n",
    "md_srt_stim.sample(2000, burn = 100)"
   ]
  },
  {
   "cell_type": "markdown",
   "id": "df20948a",
   "metadata": {},
   "source": [
    "And summarize the posterior distirbution:"
   ]
  },
  {
   "cell_type": "code",
   "execution_count": 34,
   "id": "09652e56",
   "metadata": {},
   "outputs": [
    {
     "data": {
      "text/plain": [
       "DesignMatrix with shape (3048, 3)\n",
       "  Stim  change_con  Stim:change_con\n",
       "     1           1                1\n",
       "     1           1                1\n",
       "     1           0                0\n",
       "     1           0                0\n",
       "     1           1                1\n",
       "     1           0                0\n",
       "     1           0                0\n",
       "     1           1                1\n",
       "     1           0                0\n",
       "     1           0                0\n",
       "     1           1                1\n",
       "     1           0                0\n",
       "     1           0                0\n",
       "     1           0                0\n",
       "     1           0                0\n",
       "     1           0                0\n",
       "     1           0                0\n",
       "     1           1                1\n",
       "     1           1                1\n",
       "     1           0                0\n",
       "     1           0                0\n",
       "     1           1                1\n",
       "     1           1                1\n",
       "     1           1                1\n",
       "     1           0                0\n",
       "     1           1                1\n",
       "     1           0                0\n",
       "     1           0                0\n",
       "     1           0                0\n",
       "     1           0                0\n",
       "  [3018 rows omitted]\n",
       "  Terms:\n",
       "    'Stim' (column 0)\n",
       "    'change_con' (column 1)\n",
       "    'Stim:change_con' (column 2)\n",
       "  (to view full data, use np.asarray(this_obj))"
      ]
     },
     "execution_count": 34,
     "metadata": {},
     "output_type": "execute_result"
    }
   ],
   "source": [
    "#patsy.dmatrix(\"0 + Stim_verb:change_con\", data_Go, )\n",
    "patsy.dmatrix(\"0 + Stim + change_con + Stim:change_con\", data_Go)\n",
    "#stats = md_srt_general.gen_stats()\n",
    "#stats = md_srt_general.gen_stats()\n",
    "#stats[stats.index.isin(['a', 'v', 't'])]\n",
    "#md_srt_general.plot_posterior_predictive(figsize=(14,10))\n"
   ]
  },
  {
   "cell_type": "markdown",
   "id": "1574bfaf",
   "metadata": {},
   "source": [
    "Now let us try the model of our choice, were the decision threshold varies as a function of stimulus condition and change warning."
   ]
  },
  {
   "cell_type": "markdown",
   "id": "3621ecd1",
   "metadata": {},
   "source": [
    "Next we want to load the data. Because we want to analyze a GoNoGo task, our target (response) is not accuracy, but Go and NoGo trials. Thus we have to recode our dataset. Further we will include one variable with the stimulation conditions, one variable with the cued condition (cued Go or cued no Go) and see how these conditions affect response threshold. I think it might also be smart to distinguish cued NoGo Go and cued NoGo NoGo? i will have to think about the nested structure some more. First load the data:"
   ]
  },
  {
   "cell_type": "code",
   "execution_count": null,
   "id": "67d869b4",
   "metadata": {},
   "outputs": [],
   "source": [
    "\n",
    "# create a new column from existing column\n",
    "data_NoGo['response'] = data_NoGo[\"GoNoGo\"].apply(lambda x: 1 if \"Stop\" in x else 0)\n",
    "data_NoGo['change_con'] = data_NoGo[\"GoNoGo\"].apply(lambda x: 1 if \"NoGo\" in x else 0)\n",
    "# and rename a couple of columns\n",
    "data_NoGo = data_NoGo.rename(columns={\"RT\":\"rt\", \"Part_nr\":\"subj_idx\"})\n",
    "data_NoGo.head(10)\n",
    "\n",
    "#Fit a first simple model:\n",
    "md_srt_general = hddm.HDDM(data_NoGo,\n",
    "                          p_outlier = 0.05) # we say that 5% of our trials are outlier trials)\n",
    "# find a good starting value\n",
    "md_srt_general.find_starting_values()\n",
    "#get samples and discard a couple as burn ins\n",
    "md_srt_general.sample(2000, burn = 100)"
   ]
  },
  {
   "cell_type": "markdown",
   "id": "44602c71",
   "metadata": {},
   "source": [
    "And summarize the posterior distirbution:\n"
   ]
  },
  {
   "cell_type": "code",
   "execution_count": null,
   "id": "9e74afc2",
   "metadata": {},
   "outputs": [],
   "source": [
    "stats = md_srt_general.gen_stats()\n",
    "stats[stats.index.isin(['a', 'v', 't'])]\n",
    "md_srt_general.plot_posterior_predictive(figsize=(14,10))\n"
   ]
  },
  {
   "cell_type": "markdown",
   "id": "887955a2",
   "metadata": {},
   "source": [
    "Now let us try the model of our choice, were the decision threshold varies as a function of stimulus condition and change warning.\n"
   ]
  },
  {
   "cell_type": "code",
   "execution_count": null,
   "id": "77336e33",
   "metadata": {},
   "outputs": [],
   "source": []
  }
 ],
 "metadata": {
  "kernelspec": {
   "display_name": "Python 3 (Spyder)",
   "language": "python3",
   "name": "python3"
  },
  "language_info": {
   "codemirror_mode": {
    "name": "ipython",
    "version": 3
   },
   "file_extension": ".py",
   "mimetype": "text/x-python",
   "name": "python",
   "nbconvert_exporter": "python",
   "pygments_lexer": "ipython3",
   "version": "3.7.16"
  }
 },
 "nbformat": 4,
 "nbformat_minor": 5
}
